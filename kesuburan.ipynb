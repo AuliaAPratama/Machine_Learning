{
 "cells": [
  {
   "cell_type": "code",
   "execution_count": 1,
   "metadata": {},
   "outputs": [],
   "source": [
    "import pandas as pd\n",
    "import numpy as np\n",
    "import matplotlib.pyplot as plt"
   ]
  },
  {
   "cell_type": "code",
   "execution_count": 2,
   "metadata": {},
   "outputs": [
    {
     "data": {
      "text/html": [
       "<div>\n",
       "<style scoped>\n",
       "    .dataframe tbody tr th:only-of-type {\n",
       "        vertical-align: middle;\n",
       "    }\n",
       "\n",
       "    .dataframe tbody tr th {\n",
       "        vertical-align: top;\n",
       "    }\n",
       "\n",
       "    .dataframe thead th {\n",
       "        text-align: right;\n",
       "    }\n",
       "</style>\n",
       "<table border=\"1\" class=\"dataframe\">\n",
       "  <thead>\n",
       "    <tr style=\"text-align: right;\">\n",
       "      <th></th>\n",
       "      <th>Age</th>\n",
       "      <th>Childish diseases</th>\n",
       "      <th>Accident or serious trauma</th>\n",
       "      <th>Surgical intervention</th>\n",
       "      <th>High fevers in the last year</th>\n",
       "      <th>Frequency of alcohol consumption</th>\n",
       "      <th>Smoking habit</th>\n",
       "      <th>Number of hours spent sitting per day</th>\n",
       "      <th>Diagnosis</th>\n",
       "    </tr>\n",
       "  </thead>\n",
       "  <tbody>\n",
       "    <tr>\n",
       "      <td>0</td>\n",
       "      <td>30</td>\n",
       "      <td>no</td>\n",
       "      <td>yes</td>\n",
       "      <td>yes</td>\n",
       "      <td>more than 3 months ago</td>\n",
       "      <td>once a week</td>\n",
       "      <td>occasional</td>\n",
       "      <td>16</td>\n",
       "      <td>Normal</td>\n",
       "    </tr>\n",
       "    <tr>\n",
       "      <td>1</td>\n",
       "      <td>35</td>\n",
       "      <td>yes</td>\n",
       "      <td>no</td>\n",
       "      <td>yes</td>\n",
       "      <td>more than 3 months ago</td>\n",
       "      <td>once a week</td>\n",
       "      <td>daily</td>\n",
       "      <td>6</td>\n",
       "      <td>Altered</td>\n",
       "    </tr>\n",
       "    <tr>\n",
       "      <td>2</td>\n",
       "      <td>27</td>\n",
       "      <td>yes</td>\n",
       "      <td>no</td>\n",
       "      <td>no</td>\n",
       "      <td>more than 3 months ago</td>\n",
       "      <td>hardly ever or never</td>\n",
       "      <td>never</td>\n",
       "      <td>9</td>\n",
       "      <td>Normal</td>\n",
       "    </tr>\n",
       "    <tr>\n",
       "      <td>3</td>\n",
       "      <td>32</td>\n",
       "      <td>no</td>\n",
       "      <td>yes</td>\n",
       "      <td>yes</td>\n",
       "      <td>more than 3 months ago</td>\n",
       "      <td>hardly ever or never</td>\n",
       "      <td>never</td>\n",
       "      <td>7</td>\n",
       "      <td>Normal</td>\n",
       "    </tr>\n",
       "    <tr>\n",
       "      <td>4</td>\n",
       "      <td>30</td>\n",
       "      <td>yes</td>\n",
       "      <td>yes</td>\n",
       "      <td>no</td>\n",
       "      <td>more than 3 months ago</td>\n",
       "      <td>once a week</td>\n",
       "      <td>never</td>\n",
       "      <td>9</td>\n",
       "      <td>Altered</td>\n",
       "    </tr>\n",
       "  </tbody>\n",
       "</table>\n",
       "</div>"
      ],
      "text/plain": [
       "   Age Childish diseases Accident or serious trauma Surgical intervention  \\\n",
       "0   30                no                        yes                   yes   \n",
       "1   35               yes                         no                   yes   \n",
       "2   27               yes                         no                    no   \n",
       "3   32                no                        yes                   yes   \n",
       "4   30               yes                        yes                    no   \n",
       "\n",
       "  High fevers in the last year Frequency of alcohol consumption Smoking habit  \\\n",
       "0       more than 3 months ago                      once a week    occasional   \n",
       "1       more than 3 months ago                      once a week         daily   \n",
       "2       more than 3 months ago             hardly ever or never         never   \n",
       "3       more than 3 months ago             hardly ever or never         never   \n",
       "4       more than 3 months ago                      once a week         never   \n",
       "\n",
       "   Number of hours spent sitting per day Diagnosis  \n",
       "0                                     16    Normal  \n",
       "1                                      6   Altered  \n",
       "2                                      9    Normal  \n",
       "3                                      7    Normal  \n",
       "4                                      9   Altered  "
      ]
     },
     "execution_count": 2,
     "metadata": {},
     "output_type": "execute_result"
    }
   ],
   "source": [
    "df = pd.read_csv('fertility.csv')\n",
    "df = df.drop(['Season'], axis=1)\n",
    "df.head()"
   ]
  },
  {
   "cell_type": "code",
   "execution_count": 4,
   "metadata": {},
   "outputs": [
    {
     "data": {
      "text/html": [
       "<div>\n",
       "<style scoped>\n",
       "    .dataframe tbody tr th:only-of-type {\n",
       "        vertical-align: middle;\n",
       "    }\n",
       "\n",
       "    .dataframe tbody tr th {\n",
       "        vertical-align: top;\n",
       "    }\n",
       "\n",
       "    .dataframe thead th {\n",
       "        text-align: right;\n",
       "    }\n",
       "</style>\n",
       "<table border=\"1\" class=\"dataframe\">\n",
       "  <thead>\n",
       "    <tr style=\"text-align: right;\">\n",
       "      <th></th>\n",
       "      <th>Age</th>\n",
       "      <th>Childish diseases</th>\n",
       "      <th>Accident or serious trauma</th>\n",
       "      <th>Surgical intervention</th>\n",
       "      <th>High fevers in the last year</th>\n",
       "      <th>Frequency of alcohol consumption</th>\n",
       "      <th>Smoking habit</th>\n",
       "      <th>Number of hours spent sitting per day</th>\n",
       "      <th>Diagnosis</th>\n",
       "    </tr>\n",
       "  </thead>\n",
       "  <tbody>\n",
       "    <tr>\n",
       "      <td>0</td>\n",
       "      <td>30</td>\n",
       "      <td>0</td>\n",
       "      <td>1</td>\n",
       "      <td>1</td>\n",
       "      <td>more than 3 months ago</td>\n",
       "      <td>once a week</td>\n",
       "      <td>occasional</td>\n",
       "      <td>16</td>\n",
       "      <td>Normal</td>\n",
       "    </tr>\n",
       "    <tr>\n",
       "      <td>1</td>\n",
       "      <td>35</td>\n",
       "      <td>1</td>\n",
       "      <td>0</td>\n",
       "      <td>1</td>\n",
       "      <td>more than 3 months ago</td>\n",
       "      <td>once a week</td>\n",
       "      <td>daily</td>\n",
       "      <td>6</td>\n",
       "      <td>Altered</td>\n",
       "    </tr>\n",
       "    <tr>\n",
       "      <td>2</td>\n",
       "      <td>27</td>\n",
       "      <td>1</td>\n",
       "      <td>0</td>\n",
       "      <td>0</td>\n",
       "      <td>more than 3 months ago</td>\n",
       "      <td>hardly ever or never</td>\n",
       "      <td>never</td>\n",
       "      <td>9</td>\n",
       "      <td>Normal</td>\n",
       "    </tr>\n",
       "    <tr>\n",
       "      <td>3</td>\n",
       "      <td>32</td>\n",
       "      <td>0</td>\n",
       "      <td>1</td>\n",
       "      <td>1</td>\n",
       "      <td>more than 3 months ago</td>\n",
       "      <td>hardly ever or never</td>\n",
       "      <td>never</td>\n",
       "      <td>7</td>\n",
       "      <td>Normal</td>\n",
       "    </tr>\n",
       "    <tr>\n",
       "      <td>4</td>\n",
       "      <td>30</td>\n",
       "      <td>1</td>\n",
       "      <td>1</td>\n",
       "      <td>0</td>\n",
       "      <td>more than 3 months ago</td>\n",
       "      <td>once a week</td>\n",
       "      <td>never</td>\n",
       "      <td>9</td>\n",
       "      <td>Altered</td>\n",
       "    </tr>\n",
       "  </tbody>\n",
       "</table>\n",
       "</div>"
      ],
      "text/plain": [
       "   Age  Childish diseases  Accident or serious trauma  Surgical intervention  \\\n",
       "0   30                  0                           1                      1   \n",
       "1   35                  1                           0                      1   \n",
       "2   27                  1                           0                      0   \n",
       "3   32                  0                           1                      1   \n",
       "4   30                  1                           1                      0   \n",
       "\n",
       "  High fevers in the last year Frequency of alcohol consumption Smoking habit  \\\n",
       "0       more than 3 months ago                      once a week    occasional   \n",
       "1       more than 3 months ago                      once a week         daily   \n",
       "2       more than 3 months ago             hardly ever or never         never   \n",
       "3       more than 3 months ago             hardly ever or never         never   \n",
       "4       more than 3 months ago                      once a week         never   \n",
       "\n",
       "   Number of hours spent sitting per day Diagnosis  \n",
       "0                                     16    Normal  \n",
       "1                                      6   Altered  \n",
       "2                                      9    Normal  \n",
       "3                                      7    Normal  \n",
       "4                                      9   Altered  "
      ]
     },
     "execution_count": 4,
     "metadata": {},
     "output_type": "execute_result"
    }
   ],
   "source": [
    "# Create a label encoder object\n",
    "from sklearn.preprocessing import LabelEncoder\n",
    "feature_mod = ['Childish diseases', 'Accident or serious trauma', 'Surgical intervention']\n",
    "encode = LabelEncoder()\n",
    "for i in feature_mod:\n",
    "    df[i] = encode.fit_transform(df[i])\n",
    "\n",
    "df.head()"
   ]
  },
  {
   "cell_type": "code",
   "execution_count": 5,
   "metadata": {},
   "outputs": [
    {
     "data": {
      "text/html": [
       "<div>\n",
       "<style scoped>\n",
       "    .dataframe tbody tr th:only-of-type {\n",
       "        vertical-align: middle;\n",
       "    }\n",
       "\n",
       "    .dataframe tbody tr th {\n",
       "        vertical-align: top;\n",
       "    }\n",
       "\n",
       "    .dataframe thead th {\n",
       "        text-align: right;\n",
       "    }\n",
       "</style>\n",
       "<table border=\"1\" class=\"dataframe\">\n",
       "  <thead>\n",
       "    <tr style=\"text-align: right;\">\n",
       "      <th></th>\n",
       "      <th>Age</th>\n",
       "      <th>Childish diseases</th>\n",
       "      <th>Accident or serious trauma</th>\n",
       "      <th>Surgical intervention</th>\n",
       "      <th>Number of hours spent sitting per day</th>\n",
       "      <th>High fevers in the last year_less than 3 months ago</th>\n",
       "      <th>High fevers in the last year_more than 3 months ago</th>\n",
       "      <th>High fevers in the last year_no</th>\n",
       "      <th>Frequency of alcohol consumption_every day</th>\n",
       "      <th>Frequency of alcohol consumption_hardly ever or never</th>\n",
       "      <th>Frequency of alcohol consumption_once a week</th>\n",
       "      <th>Frequency of alcohol consumption_several times a day</th>\n",
       "      <th>Frequency of alcohol consumption_several times a week</th>\n",
       "      <th>Smoking habit_daily</th>\n",
       "      <th>Smoking habit_never</th>\n",
       "      <th>Smoking habit_occasional</th>\n",
       "    </tr>\n",
       "  </thead>\n",
       "  <tbody>\n",
       "    <tr>\n",
       "      <td>0</td>\n",
       "      <td>30</td>\n",
       "      <td>0</td>\n",
       "      <td>1</td>\n",
       "      <td>1</td>\n",
       "      <td>16</td>\n",
       "      <td>0</td>\n",
       "      <td>1</td>\n",
       "      <td>0</td>\n",
       "      <td>0</td>\n",
       "      <td>0</td>\n",
       "      <td>1</td>\n",
       "      <td>0</td>\n",
       "      <td>0</td>\n",
       "      <td>0</td>\n",
       "      <td>0</td>\n",
       "      <td>1</td>\n",
       "    </tr>\n",
       "    <tr>\n",
       "      <td>1</td>\n",
       "      <td>35</td>\n",
       "      <td>1</td>\n",
       "      <td>0</td>\n",
       "      <td>1</td>\n",
       "      <td>6</td>\n",
       "      <td>0</td>\n",
       "      <td>1</td>\n",
       "      <td>0</td>\n",
       "      <td>0</td>\n",
       "      <td>0</td>\n",
       "      <td>1</td>\n",
       "      <td>0</td>\n",
       "      <td>0</td>\n",
       "      <td>1</td>\n",
       "      <td>0</td>\n",
       "      <td>0</td>\n",
       "    </tr>\n",
       "    <tr>\n",
       "      <td>2</td>\n",
       "      <td>27</td>\n",
       "      <td>1</td>\n",
       "      <td>0</td>\n",
       "      <td>0</td>\n",
       "      <td>9</td>\n",
       "      <td>0</td>\n",
       "      <td>1</td>\n",
       "      <td>0</td>\n",
       "      <td>0</td>\n",
       "      <td>1</td>\n",
       "      <td>0</td>\n",
       "      <td>0</td>\n",
       "      <td>0</td>\n",
       "      <td>0</td>\n",
       "      <td>1</td>\n",
       "      <td>0</td>\n",
       "    </tr>\n",
       "    <tr>\n",
       "      <td>3</td>\n",
       "      <td>32</td>\n",
       "      <td>0</td>\n",
       "      <td>1</td>\n",
       "      <td>1</td>\n",
       "      <td>7</td>\n",
       "      <td>0</td>\n",
       "      <td>1</td>\n",
       "      <td>0</td>\n",
       "      <td>0</td>\n",
       "      <td>1</td>\n",
       "      <td>0</td>\n",
       "      <td>0</td>\n",
       "      <td>0</td>\n",
       "      <td>0</td>\n",
       "      <td>1</td>\n",
       "      <td>0</td>\n",
       "    </tr>\n",
       "    <tr>\n",
       "      <td>4</td>\n",
       "      <td>30</td>\n",
       "      <td>1</td>\n",
       "      <td>1</td>\n",
       "      <td>0</td>\n",
       "      <td>9</td>\n",
       "      <td>0</td>\n",
       "      <td>1</td>\n",
       "      <td>0</td>\n",
       "      <td>0</td>\n",
       "      <td>0</td>\n",
       "      <td>1</td>\n",
       "      <td>0</td>\n",
       "      <td>0</td>\n",
       "      <td>0</td>\n",
       "      <td>1</td>\n",
       "      <td>0</td>\n",
       "    </tr>\n",
       "  </tbody>\n",
       "</table>\n",
       "</div>"
      ],
      "text/plain": [
       "   Age  Childish diseases  Accident or serious trauma  Surgical intervention  \\\n",
       "0   30                  0                           1                      1   \n",
       "1   35                  1                           0                      1   \n",
       "2   27                  1                           0                      0   \n",
       "3   32                  0                           1                      1   \n",
       "4   30                  1                           1                      0   \n",
       "\n",
       "   Number of hours spent sitting per day  \\\n",
       "0                                     16   \n",
       "1                                      6   \n",
       "2                                      9   \n",
       "3                                      7   \n",
       "4                                      9   \n",
       "\n",
       "   High fevers in the last year_less than 3 months ago  \\\n",
       "0                                                  0     \n",
       "1                                                  0     \n",
       "2                                                  0     \n",
       "3                                                  0     \n",
       "4                                                  0     \n",
       "\n",
       "   High fevers in the last year_more than 3 months ago  \\\n",
       "0                                                  1     \n",
       "1                                                  1     \n",
       "2                                                  1     \n",
       "3                                                  1     \n",
       "4                                                  1     \n",
       "\n",
       "   High fevers in the last year_no  \\\n",
       "0                                0   \n",
       "1                                0   \n",
       "2                                0   \n",
       "3                                0   \n",
       "4                                0   \n",
       "\n",
       "   Frequency of alcohol consumption_every day  \\\n",
       "0                                           0   \n",
       "1                                           0   \n",
       "2                                           0   \n",
       "3                                           0   \n",
       "4                                           0   \n",
       "\n",
       "   Frequency of alcohol consumption_hardly ever or never  \\\n",
       "0                                                  0       \n",
       "1                                                  0       \n",
       "2                                                  1       \n",
       "3                                                  1       \n",
       "4                                                  0       \n",
       "\n",
       "   Frequency of alcohol consumption_once a week  \\\n",
       "0                                             1   \n",
       "1                                             1   \n",
       "2                                             0   \n",
       "3                                             0   \n",
       "4                                             1   \n",
       "\n",
       "   Frequency of alcohol consumption_several times a day  \\\n",
       "0                                                  0      \n",
       "1                                                  0      \n",
       "2                                                  0      \n",
       "3                                                  0      \n",
       "4                                                  0      \n",
       "\n",
       "   Frequency of alcohol consumption_several times a week  Smoking habit_daily  \\\n",
       "0                                                  0                        0   \n",
       "1                                                  0                        1   \n",
       "2                                                  0                        0   \n",
       "3                                                  0                        0   \n",
       "4                                                  0                        0   \n",
       "\n",
       "   Smoking habit_never  Smoking habit_occasional  \n",
       "0                    0                         1  \n",
       "1                    0                         0  \n",
       "2                    1                         0  \n",
       "3                    1                         0  \n",
       "4                    1                         0  "
      ]
     },
     "execution_count": 5,
     "metadata": {},
     "output_type": "execute_result"
    }
   ],
   "source": [
    "dfnew = df.drop(['Diagnosis'], axis=1)\n",
    "dfnew = pd.get_dummies(dfnew)\n",
    "dfnew.head()"
   ]
  },
  {
   "cell_type": "code",
   "execution_count": 8,
   "metadata": {},
   "outputs": [],
   "source": [
    "X = dfnew\n",
    "Y = df['Diagnosis']\n",
    "\n",
    "from sklearn.model_selection import train_test_split\n",
    "xtr , xts, ytr, yts = train_test_split(X, Y,test_size = .1, random_state=90)"
   ]
  },
  {
   "cell_type": "code",
   "execution_count": 11,
   "metadata": {},
   "outputs": [
    {
     "name": "stdout",
     "output_type": "stream",
     "text": [
      "Logistic Regression Accuracy : 100.0000%\n"
     ]
    }
   ],
   "source": [
    "from sklearn.linear_model import LogisticRegression\n",
    "model_log = LogisticRegression(solver='liblinear')\n",
    "model_log.fit(xtr,ytr)\n",
    "prediksi_log = model_log.predict(xts)\n",
    "skor_log = model_log.score(xts, yts)\n",
    "\n",
    "print (\"Logistic Regression Accuracy : %s\" % \"{0:.4%}\".format(skor_log))"
   ]
  },
  {
   "cell_type": "code",
   "execution_count": 14,
   "metadata": {},
   "outputs": [
    {
     "name": "stdout",
     "output_type": "stream",
     "text": [
      "Decision Tree Accuracy : 70.0000%\n"
     ]
    }
   ],
   "source": [
    "from sklearn.tree import DecisionTreeClassifier\n",
    "model_DT = DecisionTreeClassifier()\n",
    "model_DT.fit(xtr,ytr)\n",
    "prediksi_DT = model_DT.predict(xts)\n",
    "skor_DT = model_DT.score(xts, yts)\n",
    "\n",
    "print (\"Decision Tree Accuracy : %s\" % \"{0:.4%}\".format(skor_DT))"
   ]
  },
  {
   "cell_type": "code",
   "execution_count": 15,
   "metadata": {},
   "outputs": [
    {
     "name": "stdout",
     "output_type": "stream",
     "text": [
      "Random Forest Accuracy : 90.0000%\n"
     ]
    }
   ],
   "source": [
    "from sklearn.ensemble import RandomForestClassifier\n",
    "model_rf = RandomForestClassifier(n_estimators= 50)\n",
    "model_rf.fit(xtr,ytr)\n",
    "prediksi_rf = model_rf.predict(xts)\n",
    "skor_rf = model_rf.score(xts, yts)\n",
    "\n",
    "print (\"Random Forest Accuracy : %s\" % \"{0:.4%}\".format(skor_rf))"
   ]
  },
  {
   "cell_type": "markdown",
   "metadata": {},
   "source": [
    "#### Prediction"
   ]
  },
  {
   "cell_type": "code",
   "execution_count": 16,
   "metadata": {},
   "outputs": [
    {
     "name": "stdout",
     "output_type": "stream",
     "text": [
      "Arin, prediksi kesuburan: Normal (Logistic Regression)\n",
      "Arin, prediksi kesuburan: Normal (Decision Tree Classifier)\n",
      "Arin, prediksi kesuburan: Normal (Random Forest Classifier)\n"
     ]
    }
   ],
   "source": [
    "print('Arin, prediksi kesuburan: {} (Logistic Regression)'.format(model_log.predict([[29,0,0,0,5,0,0,1,      1,0,0,0,0,1,0,0]])[0]))\n",
    "print('Arin, prediksi kesuburan: {} (Decision Tree Classifier)'.format(model_DT.predict([[29,0,0,0,5,0,0,1,  1,0,0,0,0,1,0,0]])[0]))\n",
    "print('Arin, prediksi kesuburan: {} (Random Forest Classifier)'.format(model_rf.predict([[29,0,0,0,5,0,0,1,  1,0,0,0,0,1,0,0]])[0]))"
   ]
  },
  {
   "cell_type": "code",
   "execution_count": 17,
   "metadata": {},
   "outputs": [
    {
     "name": "stdout",
     "output_type": "stream",
     "text": [
      "Bebi, prediksi kesuburan: Normal (Logistic Regression)\n",
      "Bebi, prediksi kesuburan: Normal (Decision Tree Classifier)\n",
      "Bebi, prediksi kesuburan: Normal (Random Forest Classifier)\n"
     ]
    }
   ],
   "source": [
    "print('Bebi, prediksi kesuburan: {} (Logistic Regression)'.format(model_log.predict([[31,0,1,1,24,0,0,1,      0,0,0,0,1,0,1,0]])[0]))\n",
    "print('Bebi, prediksi kesuburan: {} (Decision Tree Classifier)'.format(model_DT.predict([[31,0,1,1,24,0,0,1,  0,0,0,0,1,0,1,0]])[0]))\n",
    "print('Bebi, prediksi kesuburan: {} (Random Forest Classifier)'.format(model_rf.predict([[31,0,1,1,24,0,0,1,  0,0,0,0,1,0,1,0]])[0]))"
   ]
  },
  {
   "cell_type": "code",
   "execution_count": 18,
   "metadata": {},
   "outputs": [
    {
     "name": "stdout",
     "output_type": "stream",
     "text": [
      "Caca, prediksi kesuburan: Normal (Logistic Regression)\n",
      "Caca, prediksi kesuburan: Normal (Decision Tree Classifier)\n",
      "Caca, prediksi kesuburan: Normal (Random Forest Classifier)\n"
     ]
    }
   ],
   "source": [
    "print('Caca, prediksi kesuburan: {} (Logistic Regression)'.format(model_log.predict([[25,1,0,0,7,1,0,0,      0,1,0,0,0,0,1,0]])[0]))\n",
    "print('Caca, prediksi kesuburan: {} (Decision Tree Classifier)'.format(model_DT.predict([[25,1,0,0,7,1,0,0,  0,1,0,0,0,0,1,0]])[0]))\n",
    "print('Caca, prediksi kesuburan: {} (Random Forest Classifier)'.format(model_rf.predict([[25,1,0,0,7,1,0,0,  0,1,0,0,0,0,1,0]])[0]))"
   ]
  },
  {
   "cell_type": "code",
   "execution_count": 19,
   "metadata": {},
   "outputs": [
    {
     "name": "stdout",
     "output_type": "stream",
     "text": [
      "Dini, prediksi kesuburan: Normal (Logistic Regression)\n",
      "Dini, prediksi kesuburan: Normal (Decision Tree Classifier)\n",
      "Dini, prediksi kesuburan: Normal (Random Forest Classifier)\n"
     ]
    }
   ],
   "source": [
    "print('Dini, prediksi kesuburan: {} (Logistic Regression)'.format(model_log.predict([[28,0,1,1,24,0,0,1,      0,1,0,0,0,1,0,0]])[0]))\n",
    "print('Dini, prediksi kesuburan: {} (Decision Tree Classifier)'.format(model_DT.predict([[28,0,1,1,24,0,0,1,  0,1,0,0,0,1,0,0]])[0]))\n",
    "print('Dini, prediksi kesuburan: {} (Random Forest Classifier)'.format(model_rf.predict([[28,0,1,1,24,0,0,1,  0,1,0,0,0,1,0,0]])[0]))"
   ]
  },
  {
   "cell_type": "code",
   "execution_count": 20,
   "metadata": {},
   "outputs": [
    {
     "name": "stdout",
     "output_type": "stream",
     "text": [
      "Enno, prediksi kesuburan: Normal (Logistic Regression)\n",
      "Enno, prediksi kesuburan: Normal (Decision Tree Classifier)\n",
      "Enno, prediksi kesuburan: Normal (Random Forest Classifier)\n"
     ]
    }
   ],
   "source": [
    "print('Enno, prediksi kesuburan: {} (Logistic Regression)'.format(model_log.predict([[42,1,0,0,8,0,0,1,      0,1,0,0,0,0,1,0]])[0]))\n",
    "print('Enno, prediksi kesuburan: {} (Decision Tree Classifier)'.format(model_DT.predict([[42,1,0,0,8,0,0,1,  0,1,0,0,0,0,1,0]])[0]))\n",
    "print('Enno, prediksi kesuburan: {} (Random Forest Classifier)'.format(model_rf.predict([[42,1,0,0,8,0,0,1,  0,1,0,0,0,0,1,0]])[0]))"
   ]
  },
  {
   "cell_type": "code",
   "execution_count": null,
   "metadata": {},
   "outputs": [],
   "source": []
  }
 ],
 "metadata": {
  "kernelspec": {
   "display_name": "Python 3",
   "language": "python",
   "name": "python3"
  },
  "language_info": {
   "codemirror_mode": {
    "name": "ipython",
    "version": 3
   },
   "file_extension": ".py",
   "mimetype": "text/x-python",
   "name": "python",
   "nbconvert_exporter": "python",
   "pygments_lexer": "ipython3",
   "version": "3.7.6"
  }
 },
 "nbformat": 4,
 "nbformat_minor": 4
}
