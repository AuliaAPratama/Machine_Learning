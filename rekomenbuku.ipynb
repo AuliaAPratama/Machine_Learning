{
 "cells": [
  {
   "cell_type": "code",
   "execution_count": 1,
   "metadata": {},
   "outputs": [],
   "source": [
    "import numpy as np\n",
    "import pandas as pd\n",
    "import matplotlib.pyplot as plt"
   ]
  },
  {
   "cell_type": "code",
   "execution_count": 2,
   "metadata": {},
   "outputs": [
    {
     "data": {
      "text/html": [
       "<div>\n",
       "<style scoped>\n",
       "    .dataframe tbody tr th:only-of-type {\n",
       "        vertical-align: middle;\n",
       "    }\n",
       "\n",
       "    .dataframe tbody tr th {\n",
       "        vertical-align: top;\n",
       "    }\n",
       "\n",
       "    .dataframe thead th {\n",
       "        text-align: right;\n",
       "    }\n",
       "</style>\n",
       "<table border=\"1\" class=\"dataframe\">\n",
       "  <thead>\n",
       "    <tr style=\"text-align: right;\">\n",
       "      <th></th>\n",
       "      <th>book_id</th>\n",
       "      <th>goodreads_book_id</th>\n",
       "      <th>best_book_id</th>\n",
       "      <th>work_id</th>\n",
       "      <th>books_count</th>\n",
       "      <th>isbn</th>\n",
       "      <th>isbn13</th>\n",
       "      <th>authors</th>\n",
       "      <th>original_publication_year</th>\n",
       "      <th>original_title</th>\n",
       "      <th>...</th>\n",
       "      <th>ratings_count</th>\n",
       "      <th>work_ratings_count</th>\n",
       "      <th>work_text_reviews_count</th>\n",
       "      <th>ratings_1</th>\n",
       "      <th>ratings_2</th>\n",
       "      <th>ratings_3</th>\n",
       "      <th>ratings_4</th>\n",
       "      <th>ratings_5</th>\n",
       "      <th>image_url</th>\n",
       "      <th>small_image_url</th>\n",
       "    </tr>\n",
       "  </thead>\n",
       "  <tbody>\n",
       "    <tr>\n",
       "      <td>0</td>\n",
       "      <td>1</td>\n",
       "      <td>2767052</td>\n",
       "      <td>2767052</td>\n",
       "      <td>2792775</td>\n",
       "      <td>272</td>\n",
       "      <td>439023483</td>\n",
       "      <td>9.780439e+12</td>\n",
       "      <td>Suzanne Collins</td>\n",
       "      <td>2008.0</td>\n",
       "      <td>The Hunger Games</td>\n",
       "      <td>...</td>\n",
       "      <td>4780653</td>\n",
       "      <td>4942365</td>\n",
       "      <td>155254</td>\n",
       "      <td>66715</td>\n",
       "      <td>127936</td>\n",
       "      <td>560092</td>\n",
       "      <td>1481305</td>\n",
       "      <td>2706317</td>\n",
       "      <td>https://images.gr-assets.com/books/1447303603m...</td>\n",
       "      <td>https://images.gr-assets.com/books/1447303603s...</td>\n",
       "    </tr>\n",
       "    <tr>\n",
       "      <td>1</td>\n",
       "      <td>2</td>\n",
       "      <td>3</td>\n",
       "      <td>3</td>\n",
       "      <td>4640799</td>\n",
       "      <td>491</td>\n",
       "      <td>439554934</td>\n",
       "      <td>9.780440e+12</td>\n",
       "      <td>J.K. Rowling, Mary GrandPré</td>\n",
       "      <td>1997.0</td>\n",
       "      <td>Harry Potter and the Philosopher's Stone</td>\n",
       "      <td>...</td>\n",
       "      <td>4602479</td>\n",
       "      <td>4800065</td>\n",
       "      <td>75867</td>\n",
       "      <td>75504</td>\n",
       "      <td>101676</td>\n",
       "      <td>455024</td>\n",
       "      <td>1156318</td>\n",
       "      <td>3011543</td>\n",
       "      <td>https://images.gr-assets.com/books/1474154022m...</td>\n",
       "      <td>https://images.gr-assets.com/books/1474154022s...</td>\n",
       "    </tr>\n",
       "    <tr>\n",
       "      <td>2</td>\n",
       "      <td>3</td>\n",
       "      <td>41865</td>\n",
       "      <td>41865</td>\n",
       "      <td>3212258</td>\n",
       "      <td>226</td>\n",
       "      <td>316015849</td>\n",
       "      <td>9.780316e+12</td>\n",
       "      <td>Stephenie Meyer</td>\n",
       "      <td>2005.0</td>\n",
       "      <td>Twilight</td>\n",
       "      <td>...</td>\n",
       "      <td>3866839</td>\n",
       "      <td>3916824</td>\n",
       "      <td>95009</td>\n",
       "      <td>456191</td>\n",
       "      <td>436802</td>\n",
       "      <td>793319</td>\n",
       "      <td>875073</td>\n",
       "      <td>1355439</td>\n",
       "      <td>https://images.gr-assets.com/books/1361039443m...</td>\n",
       "      <td>https://images.gr-assets.com/books/1361039443s...</td>\n",
       "    </tr>\n",
       "    <tr>\n",
       "      <td>3</td>\n",
       "      <td>4</td>\n",
       "      <td>2657</td>\n",
       "      <td>2657</td>\n",
       "      <td>3275794</td>\n",
       "      <td>487</td>\n",
       "      <td>61120081</td>\n",
       "      <td>9.780061e+12</td>\n",
       "      <td>Harper Lee</td>\n",
       "      <td>1960.0</td>\n",
       "      <td>To Kill a Mockingbird</td>\n",
       "      <td>...</td>\n",
       "      <td>3198671</td>\n",
       "      <td>3340896</td>\n",
       "      <td>72586</td>\n",
       "      <td>60427</td>\n",
       "      <td>117415</td>\n",
       "      <td>446835</td>\n",
       "      <td>1001952</td>\n",
       "      <td>1714267</td>\n",
       "      <td>https://images.gr-assets.com/books/1361975680m...</td>\n",
       "      <td>https://images.gr-assets.com/books/1361975680s...</td>\n",
       "    </tr>\n",
       "    <tr>\n",
       "      <td>4</td>\n",
       "      <td>5</td>\n",
       "      <td>4671</td>\n",
       "      <td>4671</td>\n",
       "      <td>245494</td>\n",
       "      <td>1356</td>\n",
       "      <td>743273567</td>\n",
       "      <td>9.780743e+12</td>\n",
       "      <td>F. Scott Fitzgerald</td>\n",
       "      <td>1925.0</td>\n",
       "      <td>The Great Gatsby</td>\n",
       "      <td>...</td>\n",
       "      <td>2683664</td>\n",
       "      <td>2773745</td>\n",
       "      <td>51992</td>\n",
       "      <td>86236</td>\n",
       "      <td>197621</td>\n",
       "      <td>606158</td>\n",
       "      <td>936012</td>\n",
       "      <td>947718</td>\n",
       "      <td>https://images.gr-assets.com/books/1490528560m...</td>\n",
       "      <td>https://images.gr-assets.com/books/1490528560s...</td>\n",
       "    </tr>\n",
       "  </tbody>\n",
       "</table>\n",
       "<p>5 rows × 23 columns</p>\n",
       "</div>"
      ],
      "text/plain": [
       "   book_id  goodreads_book_id  best_book_id  work_id  books_count       isbn  \\\n",
       "0        1            2767052       2767052  2792775          272  439023483   \n",
       "1        2                  3             3  4640799          491  439554934   \n",
       "2        3              41865         41865  3212258          226  316015849   \n",
       "3        4               2657          2657  3275794          487   61120081   \n",
       "4        5               4671          4671   245494         1356  743273567   \n",
       "\n",
       "         isbn13                      authors  original_publication_year  \\\n",
       "0  9.780439e+12              Suzanne Collins                     2008.0   \n",
       "1  9.780440e+12  J.K. Rowling, Mary GrandPré                     1997.0   \n",
       "2  9.780316e+12              Stephenie Meyer                     2005.0   \n",
       "3  9.780061e+12                   Harper Lee                     1960.0   \n",
       "4  9.780743e+12          F. Scott Fitzgerald                     1925.0   \n",
       "\n",
       "                             original_title  ... ratings_count  \\\n",
       "0                          The Hunger Games  ...       4780653   \n",
       "1  Harry Potter and the Philosopher's Stone  ...       4602479   \n",
       "2                                  Twilight  ...       3866839   \n",
       "3                     To Kill a Mockingbird  ...       3198671   \n",
       "4                          The Great Gatsby  ...       2683664   \n",
       "\n",
       "  work_ratings_count  work_text_reviews_count  ratings_1  ratings_2  \\\n",
       "0            4942365                   155254      66715     127936   \n",
       "1            4800065                    75867      75504     101676   \n",
       "2            3916824                    95009     456191     436802   \n",
       "3            3340896                    72586      60427     117415   \n",
       "4            2773745                    51992      86236     197621   \n",
       "\n",
       "   ratings_3  ratings_4  ratings_5  \\\n",
       "0     560092    1481305    2706317   \n",
       "1     455024    1156318    3011543   \n",
       "2     793319     875073    1355439   \n",
       "3     446835    1001952    1714267   \n",
       "4     606158     936012     947718   \n",
       "\n",
       "                                           image_url  \\\n",
       "0  https://images.gr-assets.com/books/1447303603m...   \n",
       "1  https://images.gr-assets.com/books/1474154022m...   \n",
       "2  https://images.gr-assets.com/books/1361039443m...   \n",
       "3  https://images.gr-assets.com/books/1361975680m...   \n",
       "4  https://images.gr-assets.com/books/1490528560m...   \n",
       "\n",
       "                                     small_image_url  \n",
       "0  https://images.gr-assets.com/books/1447303603s...  \n",
       "1  https://images.gr-assets.com/books/1474154022s...  \n",
       "2  https://images.gr-assets.com/books/1361039443s...  \n",
       "3  https://images.gr-assets.com/books/1361975680s...  \n",
       "4  https://images.gr-assets.com/books/1490528560s...  \n",
       "\n",
       "[5 rows x 23 columns]"
      ]
     },
     "execution_count": 2,
     "metadata": {},
     "output_type": "execute_result"
    }
   ],
   "source": [
    "dfbook = pd.read_csv('books.csv')\n",
    "dfbook.head()"
   ]
  },
  {
   "cell_type": "code",
   "execution_count": 3,
   "metadata": {},
   "outputs": [
    {
     "data": {
      "text/html": [
       "<div>\n",
       "<style scoped>\n",
       "    .dataframe tbody tr th:only-of-type {\n",
       "        vertical-align: middle;\n",
       "    }\n",
       "\n",
       "    .dataframe tbody tr th {\n",
       "        vertical-align: top;\n",
       "    }\n",
       "\n",
       "    .dataframe thead th {\n",
       "        text-align: right;\n",
       "    }\n",
       "</style>\n",
       "<table border=\"1\" class=\"dataframe\">\n",
       "  <thead>\n",
       "    <tr style=\"text-align: right;\">\n",
       "      <th></th>\n",
       "      <th>user_id</th>\n",
       "      <th>book_id</th>\n",
       "      <th>rating</th>\n",
       "    </tr>\n",
       "  </thead>\n",
       "  <tbody>\n",
       "    <tr>\n",
       "      <td>0</td>\n",
       "      <td>1</td>\n",
       "      <td>258</td>\n",
       "      <td>5</td>\n",
       "    </tr>\n",
       "    <tr>\n",
       "      <td>1</td>\n",
       "      <td>2</td>\n",
       "      <td>4081</td>\n",
       "      <td>4</td>\n",
       "    </tr>\n",
       "    <tr>\n",
       "      <td>2</td>\n",
       "      <td>2</td>\n",
       "      <td>260</td>\n",
       "      <td>5</td>\n",
       "    </tr>\n",
       "    <tr>\n",
       "      <td>3</td>\n",
       "      <td>2</td>\n",
       "      <td>9296</td>\n",
       "      <td>5</td>\n",
       "    </tr>\n",
       "    <tr>\n",
       "      <td>4</td>\n",
       "      <td>2</td>\n",
       "      <td>2318</td>\n",
       "      <td>3</td>\n",
       "    </tr>\n",
       "  </tbody>\n",
       "</table>\n",
       "</div>"
      ],
      "text/plain": [
       "   user_id  book_id  rating\n",
       "0        1      258       5\n",
       "1        2     4081       4\n",
       "2        2      260       5\n",
       "3        2     9296       5\n",
       "4        2     2318       3"
      ]
     },
     "execution_count": 3,
     "metadata": {},
     "output_type": "execute_result"
    }
   ],
   "source": [
    "dfrating = pd.read_csv('ratings.csv')\n",
    "dfrating.head()"
   ]
  },
  {
   "cell_type": "code",
   "execution_count": 4,
   "metadata": {},
   "outputs": [
    {
     "data": {
      "text/plain": [
       "\"J.K. Rowling, Mary GrandPré Harry Potter and the Philosopher's Stone Harry Potter and the Sorcerer's Stone (Harry Potter, #1) eng\""
      ]
     },
     "execution_count": 4,
     "metadata": {},
     "output_type": "execute_result"
    }
   ],
   "source": [
    "def all_features(i):\n",
    "    return str(i['authors'])+' '+str(i['original_title'])+' '+str(i['title'])+' '+str(i['language_code'])\n",
    "dfbook['criteria'] = dfbook.apply(all_features,axis='columns')\n",
    "dfbook['criteria'][1]"
   ]
  },
  {
   "cell_type": "code",
   "execution_count": 5,
   "metadata": {},
   "outputs": [],
   "source": [
    "# Count Vectorizer -------------------------------------------------\n",
    "from sklearn.feature_extraction.text import CountVectorizer\n",
    "model = CountVectorizer(tokenizer=lambda x:x.split(' '))\n",
    "matrixFeature = model.fit_transform(dfbook['criteria'])\n",
    "\n",
    "criteria = model.get_feature_names()"
   ]
  },
  {
   "cell_type": "code",
   "execution_count": 6,
   "metadata": {},
   "outputs": [],
   "source": [
    "# Cosine Similarity -------------------------------------------------\n",
    "from sklearn.metrics.pairwise import cosine_similarity\n",
    "skor = cosine_similarity(matrixFeature)"
   ]
  },
  {
   "cell_type": "code",
   "execution_count": 7,
   "metadata": {},
   "outputs": [
    {
     "data": {
      "text/plain": [
       "[0, 16, 19, 6]"
      ]
     },
     "execution_count": 7,
     "metadata": {},
     "output_type": "execute_result"
    }
   ],
   "source": [
    "andi_1 = dfbook[dfbook['original_title']=='The Hunger Games']['book_id'].tolist()[0]-1 \n",
    "andi_2 = dfbook[dfbook['original_title']=='Catching Fire']['book_id'].tolist()[0]-1\n",
    "andi_3 = dfbook[dfbook['original_title']=='Mockingjay']['book_id'].tolist()[0]-1 \n",
    "andi_4 = dfbook[dfbook['original_title']=='The Hobbit or There and Back Again']['book_id'].tolist()[0]-1 \n",
    "andisuka = [andi_1,andi_2,andi_3,andi_4]\n",
    "andisuka"
   ]
  },
  {
   "cell_type": "code",
   "execution_count": 8,
   "metadata": {},
   "outputs": [
    {
     "data": {
      "text/plain": [
       "[1, 22, 17]"
      ]
     },
     "execution_count": 8,
     "metadata": {},
     "output_type": "execute_result"
    }
   ],
   "source": [
    "budi_1 = dfbook[dfbook['original_title']=='Harry Potter and the Philosopher\\'s Stone']['book_id'].tolist()[0]-1 \n",
    "budi_2 = dfbook[dfbook['original_title']=='Harry Potter and the Chamber of Secrets']['book_id'].tolist()[0]-1 \n",
    "budi_3 = dfbook[dfbook['original_title']=='Harry Potter and the Prisoner of Azkaban']['book_id'].tolist()[0]-1 \n",
    "budisuka = [budi_1,budi_2,budi_3]\n",
    "budisuka"
   ]
  },
  {
   "cell_type": "code",
   "execution_count": 9,
   "metadata": {},
   "outputs": [
    {
     "data": {
      "text/plain": [
       "[5781]"
      ]
     },
     "execution_count": 9,
     "metadata": {},
     "output_type": "execute_result"
    }
   ],
   "source": [
    "ciko_1 = dfbook[dfbook['original_title']=='Robots and Empire']['book_id'].tolist()[0]-1 \n",
    "cikosuka = [ciko_1]\n",
    "cikosuka"
   ]
  },
  {
   "cell_type": "code",
   "execution_count": 10,
   "metadata": {},
   "outputs": [
    {
     "data": {
      "text/plain": [
       "[9649, 2726, 5324]"
      ]
     },
     "execution_count": 10,
     "metadata": {},
     "output_type": "execute_result"
    }
   ],
   "source": [
    "dedi_1 = dfbook[dfbook['original_title']=='Nine Parts of Desire: The Hidden World of Islamic Women']['book_id'].tolist()[0]-1 \n",
    "dedi_2 = dfbook[dfbook['original_title']=='A History of God: The 4,000-Year Quest of Judaism, Christianity, and Islam']['book_id'].tolist()[0]-1 \n",
    "dedi_3 = dfbook[dfbook['original_title']=='No god but God: The Origins, Evolution, and Future of Islam']['book_id'].tolist()[0]-1 \n",
    "dedisuka = [dedi_1,dedi_2,dedi_3]\n",
    "dedisuka"
   ]
  },
  {
   "cell_type": "code",
   "execution_count": 11,
   "metadata": {},
   "outputs": [
    {
     "data": {
      "text/plain": [
       "[793, 2989, 74]"
      ]
     },
     "execution_count": 11,
     "metadata": {},
     "output_type": "execute_result"
    }
   ],
   "source": [
    "ello_1 = dfbook[dfbook['original_title']=='Doctor Sleep']['book_id'].tolist()[0]-1 \n",
    "ello_2 = dfbook[dfbook['original_title']=='The Story of Doctor Dolittle']['book_id'].tolist()[0]-1 \n",
    "ello_3 = dfbook[dfbook['title']==\"Bridget Jones\\'s Diary (Bridget Jones, #1)\"]['book_id'].tolist()[0]-1 \n",
    "ellosuka = [ello_1,ello_2,ello_3]\n",
    "ellosuka"
   ]
  },
  {
   "cell_type": "code",
   "execution_count": 12,
   "metadata": {},
   "outputs": [],
   "source": [
    "list_skor_andi_1 = list(enumerate(skor[andi_1]))\n",
    "list_skor_andi_2 = list(enumerate(skor[andi_2]))\n",
    "list_skor_andi_3 = list(enumerate(skor[andi_3]))\n",
    "list_skor_andi_4 = list(enumerate(skor[andi_4]))\n",
    "\n",
    "list_skor_budi_1 = list(enumerate(skor[budi_1]))\n",
    "list_skor_budi_2 = list(enumerate(skor[budi_2]))\n",
    "list_skor_budi_3 = list(enumerate(skor[budi_3]))\n",
    "\n",
    "list_skor_ciko = list(enumerate(skor[ciko_1]))\n",
    "\n",
    "list_skor_dedi_1 = list(enumerate(skor[dedi_1]))\n",
    "list_skor_dedi_2 = list(enumerate(skor[dedi_2]))\n",
    "list_skor_dedi_3 = list(enumerate(skor[dedi_3]))\n",
    "\n",
    "list_skor_ello_1 = list(enumerate(skor[ello_1]))\n",
    "list_skor_ello_2 = list(enumerate(skor[ello_2]))\n",
    "list_skor_ello_3 = list(enumerate(skor[ello_3]))"
   ]
  },
  {
   "cell_type": "code",
   "execution_count": 13,
   "metadata": {},
   "outputs": [],
   "source": [
    "list_skor_andi = []\n",
    "for i in list_skor_andi_1:\n",
    "    list_skor_andi.append((i[0],0.25*(list_skor_andi_1[i[0]][1]+list_skor_andi_2[i[0]][1]+list_skor_andi_3[i[0]][1]+list_skor_andi_4[i[0]][1])))\n",
    "\n",
    "list_skor_budi = []\n",
    "for i in list_skor_budi_1:\n",
    "    list_skor_budi.append((i[0],(list_skor_budi_1[i[0]][1]+list_skor_budi_2[i[0]][1]+list_skor_budi_3[i[0]][1])/3))\n",
    "\n",
    "list_skor_dedi = []\n",
    "for i in list_skor_dedi_1:\n",
    "    list_skor_dedi.append((i[0],(list_skor_dedi_1[i[0]][1]+list_skor_dedi_2[i[0]][1]+list_skor_dedi_3[i[0]][1])/3))\n",
    "\n",
    "list_skor_ello = []\n",
    "for i in list_skor_ello_1:\n",
    "    list_skor_ello.append((i[0],(list_skor_ello_1[i[0]][1]+list_skor_ello_2[i[0]][1]+list_skor_ello_3[i[0]][1])/3))"
   ]
  },
  {
   "cell_type": "code",
   "execution_count": 14,
   "metadata": {},
   "outputs": [],
   "source": [
    "sort_andi = sorted(list_skor_andi, key = lambda j:j[1], reverse = True)\n",
    "sort_budi = sorted(list_skor_budi, key = lambda j:j[1], reverse = True)\n",
    "sort_ciko = sorted(list_skor_ciko, key = lambda j:j[1], reverse = True)\n",
    "sort_dedi = sorted(list_skor_dedi, key = lambda j:j[1], reverse = True)\n",
    "sort_ello = sorted(list_skor_ello, key = lambda j:j[1], reverse = True)"
   ]
  },
  {
   "cell_type": "code",
   "execution_count": 15,
   "metadata": {},
   "outputs": [],
   "source": [
    "# Recommendation Top 5 -------------------------------------------------\n",
    "andi_similar = []\n",
    "for i in sort_andi:\n",
    "    if i[1]>0:\n",
    "        andi_similar.append(i)\n",
    "\n",
    "budi_similar = []\n",
    "for i in sort_budi:\n",
    "    if i[1]>0:\n",
    "        budi_similar.append(i)\n",
    "\n",
    "ciko_similar = []\n",
    "for i in sort_ciko:\n",
    "    if i[1]>0:\n",
    "        ciko_similar.append(i)\n",
    "\n",
    "dedi_similar = []\n",
    "for i in sort_dedi:\n",
    "    if i[1]>0:\n",
    "        dedi_similar.append(i)\n",
    "\n",
    "ello_similar = []\n",
    "for i in sort_ello:\n",
    "    if i[1]>0:\n",
    "        ello_similar.append(i)"
   ]
  },
  {
   "cell_type": "code",
   "execution_count": 16,
   "metadata": {},
   "outputs": [
    {
     "name": "stdout",
     "output_type": "stream",
     "text": [
      "1. Buku bagus untuk Andi:\n",
      "- The Program\n",
      "- The Hobbit and The Lord of the Rings\n",
      "- The Hunger Games Box Set\n",
      "- The Magic (The Secret #3)\n",
      "- The Fire Within\n",
      " \n"
     ]
    }
   ],
   "source": [
    "print('1. Buku bagus untuk Andi:')\n",
    "for i in range(0,5):\n",
    "    if andi_similar[i][0] not in andisuka:\n",
    "        print('-',dfbook['original_title'].iloc[andi_similar[i][0]])\n",
    "    else:\n",
    "        i+=5\n",
    "        print('-',dfbook['original_title'].iloc[andi_similar[i][0]])\n",
    "\n",
    "print(' ')"
   ]
  },
  {
   "cell_type": "code",
   "execution_count": 17,
   "metadata": {},
   "outputs": [
    {
     "name": "stdout",
     "output_type": "stream",
     "text": [
      "2. Buku bagus untuk Budi:\n",
      "- Harry Potter and the Deathly Hallows\n",
      "- Harry Potter and the Half-Blood Prince\n",
      "- Harry Potter Boxed Set Books 1-4\n",
      "- Harry Potter and the Order of the Phoenix\n",
      "- Harry Potter and the Goblet of Fire\n",
      " \n"
     ]
    }
   ],
   "source": [
    "print('2. Buku bagus untuk Budi:')\n",
    "for i in range(0,5):\n",
    "    if budi_similar[i][0] not in budisuka:\n",
    "        print('-',dfbook['original_title'].iloc[budi_similar[i][0]])\n",
    "    else:\n",
    "        i+=5\n",
    "        print('-',dfbook['original_title'].iloc[budi_similar[i][0]])\n",
    "\n",
    "print(' ')"
   ]
  },
  {
   "cell_type": "code",
   "execution_count": 18,
   "metadata": {},
   "outputs": [
    {
     "name": "stdout",
     "output_type": "stream",
     "text": [
      "3. Buku bagus untuk Ciko:\n",
      "- Empire Falls\n",
      "- Foundation and Empire\n",
      "- The Robots of Dawn\n",
      "- Foundation and Earth\n",
      "- Pride and Prejudice and Zombies\n",
      " \n"
     ]
    }
   ],
   "source": [
    "print('3. Buku bagus untuk Ciko:')\n",
    "for i in range(0,5):\n",
    "    if ciko_similar[i][0] not in cikosuka:\n",
    "        print('-',dfbook['original_title'].iloc[ciko_similar[i][0]])\n",
    "    else:\n",
    "        i+=5\n",
    "        print('-',dfbook['original_title'].iloc[ciko_similar[i][0]])\n",
    "\n",
    "print(' ')"
   ]
  },
  {
   "cell_type": "code",
   "execution_count": 19,
   "metadata": {},
   "outputs": [
    {
     "name": "stdout",
     "output_type": "stream",
     "text": [
      "4. Buku bagus untuk Dedi:\n",
      "- The Disappearing Spoon: And Other True Tales of Madness, Love, and the History of the World from the Periodic Table of the Elements\n",
      "- The Practice of the Presence of God\n",
      "- The Botany of Desire: A Plant's-Eye View of the World\n",
      "- The Surgeon of Crowthorne: a tale of murder, madness & the love of words\n",
      "- The World of Ice and Fire\n",
      " \n"
     ]
    }
   ],
   "source": [
    "print('4. Buku bagus untuk Dedi:')\n",
    "for i in range(0,5):\n",
    "    if dedi_similar[i][0] not in dedisuka:\n",
    "        print('-',dfbook['original_title'].iloc[dedi_similar[i][0]])\n",
    "    else:\n",
    "        i+=5\n",
    "        print('-',dfbook['original_title'].iloc[dedi_similar[i][0]])\n",
    "\n",
    "print(' ')"
   ]
  },
  {
   "cell_type": "code",
   "execution_count": 20,
   "metadata": {},
   "outputs": [
    {
     "name": "stdout",
     "output_type": "stream",
     "text": [
      "5. Buku bagus untuk Ello:\n",
      "- The Candymakers (The Candymakers, #1)\n",
      "- The Cellar (The Cellar, #1)\n",
      "- The Remaining (The Remaining, #1)\n",
      "- The Voyages of Doctor Dolittle\n",
      "- Bridget Jones: The Edge of Reason\n"
     ]
    }
   ],
   "source": [
    "print('5. Buku bagus untuk Ello:')\n",
    "for i in range(0,5):\n",
    "    if ello_similar[i][0] not in ellosuka:\n",
    "        if str(dfbook['original_title'].iloc[ello_similar[i][0]])=='nan':\n",
    "            print('-',dfbook['title'].iloc[ello_similar[i][0]])\n",
    "        else:\n",
    "            print('-',dfbook['original_title'].iloc[ello_similar[i][0]])  \n",
    "    else:\n",
    "        i+=5\n",
    "        if str(dfbook['original_title'].iloc[ello_similar[i][0]])=='nan':\n",
    "            print('-',dfbook['title'].iloc[ello_similar[i][0]])\n",
    "        else:\n",
    "            print('-',dfbook['original_title'].iloc[ello_similar[i][0]])  "
   ]
  },
  {
   "cell_type": "code",
   "execution_count": null,
   "metadata": {},
   "outputs": [],
   "source": []
  }
 ],
 "metadata": {
  "kernelspec": {
   "display_name": "Python 3",
   "language": "python",
   "name": "python3"
  },
  "language_info": {
   "codemirror_mode": {
    "name": "ipython",
    "version": 3
   },
   "file_extension": ".py",
   "mimetype": "text/x-python",
   "name": "python",
   "nbconvert_exporter": "python",
   "pygments_lexer": "ipython3",
   "version": "3.7.6"
  }
 },
 "nbformat": 4,
 "nbformat_minor": 4
}
